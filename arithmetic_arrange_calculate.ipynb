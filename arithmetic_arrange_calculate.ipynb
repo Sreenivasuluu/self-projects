{
 "cells": [
  {
   "cell_type": "markdown",
   "id": "9ea53882",
   "metadata": {},
   "source": [
    "# Self project-1"
   ]
  },
  {
   "cell_type": "markdown",
   "id": "329aa31f",
   "metadata": {},
   "source": [
    "# Arithmetic arranger and calculator program"
   ]
  },
  {
   "cell_type": "markdown",
   "id": "486d1206",
   "metadata": {},
   "source": [
    "# input required: A list of calculations including '+' or '-'\n",
    "##                 'True' string for solutions"
   ]
  },
  {
   "cell_type": "code",
   "execution_count": null,
   "id": "060658d6",
   "metadata": {},
   "outputs": [],
   "source": [
    "def arithmetic_arranger(r , value = False):\n",
    "    s = []\n",
    "    for _ in r:\n",
    "        s.append(_.split())\n",
    "    for i in range(len(s)):\n",
    "        le=max(len(s[i][0]),len(s[i][2]))\n",
    "        print(s[i][0].rjust(le+2), end=\"    \")\n",
    "    print(end=\"\\n\")\n",
    "    for i in range(len(s)):\n",
    "        le=max(len(s[i][0]),len(s[i][2]))\n",
    "        print(s[i][1]+\" \"+s[i][2].rjust(le), end=\"    \")\n",
    "    print(end=\"\\n\")\n",
    "    for i in range(len(s)):\n",
    "        le=max(len(s[i][0]),len(s[i][2]))\n",
    "        print('-'*(le+2), end=\"    \")\n",
    "    print(end =\"\\n\")\n",
    "  \n",
    "    if value == True :\n",
    "        for i in range(len(s)):\n",
    "            le=max(len(s[i][0]),len(s[i][2]))\n",
    "            if s[i][1] == '+' :\n",
    "                sum = int(int(s[i][0])+int(s[i][2]))\n",
    "                print(str(sum).rjust(le+2), end=\"    \")\n",
    "            else:\n",
    "                sub = int(int(s[i][0])-int(s[i][2]))\n",
    "                print(str(sub).rjust(le+2), end=\"    \")\n",
    "  "
   ]
  },
  {
   "cell_type": "markdown",
   "id": "f6e164fa",
   "metadata": {},
   "source": [
    "# Getting arithmetic arrangement"
   ]
  },
  {
   "cell_type": "code",
   "execution_count": 14,
   "id": "6b10ae82",
   "metadata": {},
   "outputs": [
    {
     "name": "stdout",
     "output_type": "stream",
     "text": [
      "   32      3801      45      123    \n",
      "+ 698    -    2    + 43    +  49    \n",
      "-----    ------    ----    -----    \n"
     ]
    }
   ],
   "source": [
    "arithmetic_arranger([\"32 + 698\", \"3801 - 2\", \"45 + 43\", \"123 + 49\"]) "
   ]
  },
  {
   "cell_type": "markdown",
   "id": "d90c9095",
   "metadata": {},
   "source": [
    "# Getting arithmetic arrangement and calculation too"
   ]
  },
  {
   "cell_type": "code",
   "execution_count": 15,
   "id": "02f9a962",
   "metadata": {},
   "outputs": [
    {
     "name": "stdout",
     "output_type": "stream",
     "text": [
      "   32      3801      45      123    \n",
      "+ 698    -    2    + 43    +  49    \n",
      "-----    ------    ----    -----    \n",
      "  730      3799      88      172    "
     ]
    }
   ],
   "source": [
    "arithmetic_arranger([\"32 + 698\", \"3801 - 2\", \"45 + 43\", \"123 + 49\"], True) "
   ]
  },
  {
   "cell_type": "code",
   "execution_count": null,
   "id": "9621e2d7",
   "metadata": {},
   "outputs": [],
   "source": []
  }
 ],
 "metadata": {
  "kernelspec": {
   "display_name": "Python 3",
   "language": "python",
   "name": "python3"
  },
  "language_info": {
   "codemirror_mode": {
    "name": "ipython",
    "version": 3
   },
   "file_extension": ".py",
   "mimetype": "text/x-python",
   "name": "python",
   "nbconvert_exporter": "python",
   "pygments_lexer": "ipython3",
   "version": "3.8.8"
  }
 },
 "nbformat": 4,
 "nbformat_minor": 5
}
